{
 "cells": [
  {
   "cell_type": "code",
   "execution_count": null,
   "metadata": {},
   "outputs": [],
   "source": [
    "# import bs4\n",
    "import requests\n",
    "import numpy as np\n",
    "import pandas as pd\n",
    "import datetime as dt\n",
    "from matplotlib import style\n",
    "import matplotlib.pyplot as plt\n",
    "import pandas_datareader.data as web\n",
    "# from bs4 import BeautifulSoup"
   ]
  },
  {
   "cell_type": "markdown",
   "metadata": {},
   "source": [
    "# We want to download the stock data somewhere first. In this example we are getting stock data from yahoo finance."
   ]
  },
  {
   "cell_type": "code",
   "execution_count": null,
   "metadata": {},
   "outputs": [],
   "source": [
    "style.use('ggplot')\n",
    "start = dt.datetime(2000,1,1)\n",
    "end = dt.datetime(2020,3,1)\n",
    "df = web.DataReader('AAPL','yahoo', start, end)"
   ]
  },
  {
   "cell_type": "code",
   "execution_count": null,
   "metadata": {},
   "outputs": [],
   "source": [
    "df"
   ]
  },
  {
   "cell_type": "code",
   "execution_count": null,
   "metadata": {},
   "outputs": [],
   "source": [
    "style.use('ggplot')\n",
    "start = dt.datetime(2000,1,1)\n",
    "end = dt.datetime(2020,3,1)\n",
    "df = web.DataReader('TSLA','yahoo', start, end)"
   ]
  },
  {
   "cell_type": "markdown",
   "metadata": {},
   "source": [
    "# Now we want to look at Tesla's stock data, because trading Tesla is way more fun :)"
   ]
  },
  {
   "cell_type": "code",
   "execution_count": null,
   "metadata": {},
   "outputs": [],
   "source": [
    "df"
   ]
  },
  {
   "cell_type": "code",
   "execution_count": null,
   "metadata": {},
   "outputs": [],
   "source": [
    "df_stats = df.describe()\n",
    "df_stats"
   ]
  },
  {
   "cell_type": "markdown",
   "metadata": {},
   "source": [
    "# Data that we get from yahoo for free is not as good as the other data that you actually buy from data providers, so in this example we'll simply work on the closing price of the stock."
   ]
  },
  {
   "cell_type": "code",
   "execution_count": null,
   "metadata": {},
   "outputs": [],
   "source": [
    "daily_close = df['Close']\n",
    "daily_close"
   ]
  },
  {
   "cell_type": "code",
   "execution_count": null,
   "metadata": {},
   "outputs": [],
   "source": [
    "daily_close.shape"
   ]
  },
  {
   "cell_type": "code",
   "execution_count": null,
   "metadata": {},
   "outputs": [],
   "source": [
    "daily_close[0]"
   ]
  },
  {
   "cell_type": "code",
   "execution_count": null,
   "metadata": {},
   "outputs": [],
   "source": [
    "plt.figure(figsize=(10,8))\n",
    "plt.xlabel('Time')\n",
    "plt.ylabel('TSLA Price')\n",
    "plt.title('TSLA daily close price', fontdict={'fontname': 'Comic Sans MS', 'fontsize': 20})\n",
    "plt.plot(daily_close, 'r', label='TSLA close')"
   ]
  },
  {
   "cell_type": "markdown",
   "metadata": {},
   "source": [
    "# From the graph and stock closing price series above, we know that if you hold TSLA stock from its IPO till now, you would have earn almost 30 times the money you invested as the price increased from 23.8999 to 667.98999. But what's a reason not to do so?"
   ]
  },
  {
   "cell_type": "code",
   "execution_count": null,
   "metadata": {},
   "outputs": [],
   "source": [
    "high_watermark = 0\n",
    "max_drawdown = 0\n",
    "cur_maxdd = 0\n",
    "high_watermark_dt = 0\n",
    "dd_start = 0\n",
    "dd_end = 0\n",
    "for i in range(daily_close.size):\n",
    "    if daily_close[i]>= high_watermark:\n",
    "        high_watermark = daily_close[i]\n",
    "        high_watermark_dt = df.index[i]\n",
    "    cur_maxdd = (high_watermark -daily_close[i])/high_watermark\n",
    "    if cur_maxdd > max_drawdown:\n",
    "        max_drawdown = cur_maxdd\n",
    "        dd_start = high_watermark_dt\n",
    "        dd_end = df.index[i]\n",
    "print('the max drawdown of tsla stock is:', max_drawdown)\n",
    "print('the drawdown starts at', dd_start, ',ends at', dd_end)"
   ]
  },
  {
   "cell_type": "code",
   "execution_count": null,
   "metadata": {},
   "outputs": [],
   "source": [
    "tsla_drawdown = web.DataReader('TSLA','yahoo', dd_start, dd_end)"
   ]
  },
  {
   "cell_type": "code",
   "execution_count": null,
   "metadata": {},
   "outputs": [],
   "source": [
    "plt.figure(figsize=(10,8))\n",
    "plt.xlabel('Time')\n",
    "plt.ylabel('TSLA Price')\n",
    "plt.title('TSLA drawdown period', fontdict={'fontname': 'Comic Sans MS', 'fontsize': 20})\n",
    "plt.plot(tsla_drawdown['Close'], 'r', label='TSLA drawdown')"
   ]
  },
  {
   "cell_type": "markdown",
   "metadata": {},
   "source": [
    "# A good way to protect your capital from this is to have a portfolio and actively adjust it, like a Hedgefund does, but let's suppose that you are a die-hard TSLA trader so it makes strategy development in this example a bit simpler :)"
   ]
  },
  {
   "cell_type": "code",
   "execution_count": null,
   "metadata": {},
   "outputs": [],
   "source": [
    "df['SMA_50'] = df['Close'].rolling(50).mean()\n",
    "df['SMA_200'] = df['Close'].rolling(200).mean()\n",
    "previous_50 = df['SMA_50'].shift(1)\n",
    "previous_200 = df['SMA_200'].shift(1)\n",
    "df['SMA_diff'] = df['SMA_200'] - df['SMA_50']\n",
    "\n",
    "crossing = (((df['SMA_50'] <= df['SMA_200']) & (previous_50 >= previous_200)) \n",
    "            | ((df['SMA_50'] >= df['SMA_200']) & (previous_50 <= previous_200)))\n",
    "\n",
    "np.where(crossing == True)"
   ]
  },
  {
   "cell_type": "code",
   "execution_count": null,
   "metadata": {},
   "outputs": [],
   "source": [
    "cashes = [0]\n",
    "cash = 0\n",
    "position = 0\n",
    "for cross_point in np.where(crossing == True)[0]:    \n",
    "    # if SMA_200 > SMA_50, buy. otherwise, sell.\n",
    "    signal = np.sign(df['SMA_diff'].iloc[cross_point])\n",
    "    \n",
    "    cash += -1*(signal*df['Close'].iloc[cross_point])\n",
    "    position += signal\n",
    "    \n",
    "    if position == 0:\n",
    "        cashes.append(cash)\n",
    "    \n",
    "cashes = pd.Series(cashes)\n",
    "\n",
    "plt.figure(figsize=(10,8))\n",
    "plt.xlabel('Time')\n",
    "plt.ylabel('your capital')\n",
    "plt.title('your pnl', fontdict={'fontname': 'Comic Sans MS', 'fontsize': 20})\n",
    "plt.plot(cashes, 'r', label='your pnl')"
   ]
  },
  {
   "cell_type": "markdown",
   "metadata": {},
   "source": [
    "# Now we have a strategy that renders a much more smoother pnl curve(if we only look at how cash changes over the trades we make)!"
   ]
  },
  {
   "cell_type": "code",
   "execution_count": null,
   "metadata": {},
   "outputs": [],
   "source": [
    "import matplotlib.image as mpimg \n",
    "import matplotlib.pyplot as plt \n",
    "plt.figure(figsize=(10,10))\n",
    "img = mpimg.imread('stonks_man.png') \n",
    "plt.imshow(img) "
   ]
  },
  {
   "cell_type": "markdown",
   "metadata": {},
   "source": [
    "# But what if we change our way of backtesting a little bit?"
   ]
  },
  {
   "cell_type": "code",
   "execution_count": null,
   "metadata": {},
   "outputs": [],
   "source": [
    "cashes = [0]\n",
    "cash = 0\n",
    "position = 0\n",
    "df['SMA_50'] = df['Close'].rolling(50).mean()\n",
    "df['SMA_200'] = df['Close'].rolling(200).mean()\n",
    "df['SMA_diff'] = df['SMA_200'] - df['SMA_50']\n",
    "# df.iloc[48]\n",
    "# print(df)\n",
    "for i in range(df['SMA_50'].size):\n",
    "    if i > 199:\n",
    "        # we start trading after we have data on both 200-day SMA and 50-day SMA\n",
    "        # if SMA_200 > SMA_50, buy. otherwise, sell.\n",
    "        if (df['SMA_50'][i] <= df['SMA_200'][i]) and (df['SMA_50'][i-1] >= df['SMA_200'][i-1]):\n",
    "                cash += -df['Close'][i]\n",
    "                position += 1\n",
    "        if (df['SMA_50'][i] >= df['SMA_200'][i]) and (df['SMA_50'][i-1] <= df['SMA_200'][i-1]):\n",
    "                cash += df['Close'][i]\n",
    "                position += -1\n",
    "        if position == 0:\n",
    "            cashes.append(cash)\n",
    "                                            \n",
    "cashes = pd.Series(cashes)\n",
    "\n",
    "plt.figure(figsize=(10,8))\n",
    "plt.xlabel('Time')\n",
    "plt.ylabel('your capital')\n",
    "plt.title('your pnl', fontdict={'fontname': 'Comic Sans MS', 'fontsize': 20})\n",
    "plt.plot(cashes, 'r', label='your pnl')"
   ]
  },
  {
   "cell_type": "markdown",
   "metadata": {},
   "source": [
    "# That still looks nice, but what if we only look at our capital over time?"
   ]
  },
  {
   "cell_type": "code",
   "execution_count": null,
   "metadata": {},
   "outputs": [],
   "source": [
    "capitals = [0]\n",
    "capital = 0\n",
    "position = 0\n",
    "df['SMA_50'] = df['Close'].rolling(50).mean()\n",
    "df['SMA_200'] = df['Close'].rolling(200).mean()\n",
    "df['SMA_diff'] = df['SMA_200'] - df['SMA_50']\n",
    "# df.iloc[48]\n",
    "# print(df)\n",
    "for i in range(df['SMA_50'].size):\n",
    "    if i > 199:\n",
    "        # we start trading after we have data on both 200-day SMA and 50-day SMA\n",
    "        # if SMA_200 > SMA_50, buy. otherwise, sell.\n",
    "        if (df['SMA_50'][i] <= df['SMA_200'][i]) and (df['SMA_50'][i-1] >= df['SMA_200'][i-1]):\n",
    "                capital += -df['Close'][i]\n",
    "                position += 1\n",
    "        if (df['SMA_50'][i] >= df['SMA_200'][i]) and (df['SMA_50'][i-1] <= df['SMA_200'][i-1]):\n",
    "                capital += df['Close'][i]\n",
    "                position += -1\n",
    "        capitals.append(capital)\n",
    "                                            \n",
    "capitals = pd.Series(capitals)\n",
    "\n",
    "plt.figure(figsize=(10,8))\n",
    "plt.xlabel('Time')\n",
    "plt.ylabel('your capital')\n",
    "plt.title('your pnl', fontdict={'fontname': 'Comic Sans MS', 'fontsize': 20})\n",
    "plt.plot(capitals, 'r', label='your pnl')"
   ]
  },
  {
   "cell_type": "code",
   "execution_count": null,
   "metadata": {},
   "outputs": [],
   "source": []
  },
  {
   "cell_type": "code",
   "execution_count": null,
   "metadata": {},
   "outputs": [],
   "source": []
  }
 ],
 "metadata": {
  "kernelspec": {
   "display_name": "Python 3.7.4 64-bit ('base': conda)",
   "language": "python",
   "name": "python37464bitbaseconda2a5e644381ba4a2cb92ecaa1434a1cdf"
  },
  "language_info": {
   "codemirror_mode": {
    "name": "ipython",
    "version": 3
   },
   "file_extension": ".py",
   "mimetype": "text/x-python",
   "name": "python",
   "nbconvert_exporter": "python",
   "pygments_lexer": "ipython3",
   "version": "3.7.4"
  }
 },
 "nbformat": 4,
 "nbformat_minor": 2
}
